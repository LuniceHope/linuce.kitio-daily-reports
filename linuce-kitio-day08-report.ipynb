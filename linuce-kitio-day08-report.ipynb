{
 "cells": [
  {
   "cell_type": "markdown",
   "id": "82e29586",
   "metadata": {},
   "source": [
    "# PyPro:CHALLENGE 1\n"
   ]
  },
  {
   "cell_type": "markdown",
   "id": "86b8ed8c",
   "metadata": {},
   "source": [
    "### 1.Create a function find_max() that accepts two numeric inputs and returns the greater value. Avoid using the built-in max() function."
   ]
  },
  {
   "cell_type": "code",
   "execution_count": null,
   "id": "9f0255a8",
   "metadata": {},
   "outputs": [],
   "source": []
  },
  {
   "cell_type": "code",
   "execution_count": 5,
   "id": "3959d4c0",
   "metadata": {},
   "outputs": [
    {
     "name": "stdout",
     "output_type": "stream",
     "text": [
      "The maximum is 7\n"
     ]
    }
   ],
   "source": [
    "def find_max(a,b):\n",
    "    #a = float(input(\"Enter the first number: \"))\n",
    "    #b=float(input(\"Enter the second number: \"))\n",
    "    if a < b:\n",
    "        Max=b\n",
    "    else:  \n",
    "        Max=a\n",
    "    return print(\"The maximum is\", Max)\n",
    "find_max(5,7)"
   ]
  },
  {
   "cell_type": "markdown",
   "id": "43dab922",
   "metadata": {},
   "source": [
    "### 2. Develop a function find_max_of_three() to find the maximum among three given numbers."
   ]
  },
  {
   "cell_type": "code",
   "execution_count": 8,
   "id": "44c3fcd6",
   "metadata": {},
   "outputs": [
    {
     "name": "stdout",
     "output_type": "stream",
     "text": [
      "The maximum is 19\n"
     ]
    }
   ],
   "source": [
    "#Function2\n",
    "def find_max_of_three(a,b,c):\n",
    "    #a,b,c = input(\"Enter your numbers: \").split()\n",
    "   # b=input(\"Enter the second number: \", \", \")\n",
    "   # c=input(\"Enter the third number: \")\n",
    "    if a > b:\n",
    "        if a>c:\n",
    "            Max=a\n",
    "        else:\n",
    "            Max=c\n",
    "    else: \n",
    "        if b<c:\n",
    "            Max=c\n",
    "        else:\n",
    "            Max=b\n",
    "    return print(\"The maximum is\", Max)\n",
    "find_max_of_three(9,-6,19)"
   ]
  },
  {
   "cell_type": "markdown",
   "id": "214dfae3",
   "metadata": {},
   "source": [
    "### 3. Write a function to manually calculate the length of a given list or string without using len()."
   ]
  },
  {
   "cell_type": "code",
   "execution_count": 32,
   "id": "eee62aad",
   "metadata": {},
   "outputs": [
    {
     "data": {
      "text/plain": [
       "4"
      ]
     },
     "execution_count": 32,
     "metadata": {},
     "output_type": "execute_result"
    }
   ],
   "source": [
    "c=0\n",
    "def calcul_lenght(S):\n",
    "    #S=input(\"Enter your string: \")\n",
    "    #ch='charac'\n",
    "    c=0\n",
    "    for i in S:\n",
    "        c=c+1\n",
    "    return c   \n",
    "calcul_lenght(\"opiu\")"
   ]
  },
  {
   "cell_type": "markdown",
   "id": "8b5c67e3",
   "metadata": {},
   "source": [
    "### 4. Implement a function that checks if a given character is a vowel (a, e, i, o, u)."
   ]
  },
  {
   "cell_type": "code",
   "execution_count": 13,
   "id": "00c512ec",
   "metadata": {},
   "outputs": [
    {
     "name": "stdout",
     "output_type": "stream",
     "text": [
      "It is not a vowel\n"
     ]
    }
   ],
   "source": [
    "def Check(t):\n",
    "    Vowel={'a','e','o','u','i'}\n",
    "    if t in Vowel:\n",
    "        print(\"Your character is a vowel\")\n",
    "    else:\n",
    "        print(\"It is not a vowel\")\n",
    "Check('y')    \n",
    "    "
   ]
  },
  {
   "cell_type": "markdown",
   "id": "3eb4a18e",
   "metadata": {},
   "source": [
    "### 5. Write a function encode() that converts a string into “rövarspråket” (robber’s language) by doubling consonants and placing “o” in between, e.g., “hello” -> “hohelollolo”."
   ]
  },
  {
   "cell_type": "code",
   "execution_count": 35,
   "id": "fe6f71f3",
   "metadata": {},
   "outputs": [
    {
     "name": "stdout",
     "output_type": "stream",
     "text": [
      "Enter your string: lulu\n"
     ]
    },
    {
     "data": {
      "text/plain": [
       "'lolulolu'"
      ]
     },
     "execution_count": 35,
     "metadata": {},
     "output_type": "execute_result"
    }
   ],
   "source": [
    "Vowel={'a','e','o','u','i'}\n",
    "def encode(s):\n",
    "    s=input(\"Enter your string: \")\n",
    "    char_list=list(s)\n",
    "    #s1 = ''\n",
    "    \n",
    "    for i in range(len(char_list)):\n",
    "        if char_list[i] not in Vowel:\n",
    "            char_list[i] = char_list[i] + \"o\"+ char_list[i]\n",
    "    final_S = ''\n",
    "    for i in range(len(char_list)):\n",
    "        final_S = final_S + char_list[i]\n",
    "        \n",
    "    return final_S\n",
    "encode(\"s\")"
   ]
  },
  {
   "cell_type": "markdown",
   "id": "b6a4925c",
   "metadata": {},
   "source": [
    "### 6. Create sum_elements() and product_elements() functions to sum and multiply all elements in a list, respectively."
   ]
  },
  {
   "cell_type": "code",
   "execution_count": null,
   "id": "1f33d3ae",
   "metadata": {},
   "outputs": [],
   "source": [
    "def sum_elements()"
   ]
  }
 ],
 "metadata": {
  "kernelspec": {
   "display_name": "Python 3 (ipykernel)",
   "language": "python",
   "name": "python3"
  },
  "language_info": {
   "codemirror_mode": {
    "name": "ipython",
    "version": 3
   },
   "file_extension": ".py",
   "mimetype": "text/x-python",
   "name": "python",
   "nbconvert_exporter": "python",
   "pygments_lexer": "ipython3",
   "version": "3.11.2"
  }
 },
 "nbformat": 4,
 "nbformat_minor": 5
}
