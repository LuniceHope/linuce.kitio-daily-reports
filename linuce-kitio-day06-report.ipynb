{
 "cells": [
  {
   "cell_type": "markdown",
   "id": "9812dd38",
   "metadata": {},
   "source": [
    "### Exercice 2\n"
   ]
  },
  {
   "cell_type": "code",
   "execution_count": 5,
   "id": "50f589fb",
   "metadata": {},
   "outputs": [
    {
     "name": "stdout",
     "output_type": "stream",
     "text": [
      "Enter a number between 0 and 6: 5\n",
      "Week-end\n"
     ]
    }
   ],
   "source": [
    "a=int(input(\"Enter a number between 0 and 6: \"))\n",
    "if a==0:\n",
    "    print(\"Monday\")\n",
    "elif a==1:\n",
    "    print(\"Tuesday\")\n",
    "elif a==2:\n",
    "    print(\"Wednesday\")\n",
    "elif a==3:\n",
    "    print(\"Thursday\")\n",
    "elif a==4:\n",
    "    print(\"Friday\")\n",
    "elif a<6:\n",
    "    print(\"Week-end\")\n",
    "else:\n",
    "    print(\"Enter another value\")\n",
    "\n",
    "\n",
    "\n",
    "    "
   ]
  },
  {
   "cell_type": "markdown",
   "id": "048a57d1",
   "metadata": {},
   "source": [
    "### Exercice 3"
   ]
  },
  {
   "cell_type": "code",
   "execution_count": 6,
   "id": "65fe8e40",
   "metadata": {},
   "outputs": [
    {
     "name": "stdout",
     "output_type": "stream",
     "text": [
      "Give a month number between 0 and 11: 89\n",
      "Enter a number between 0 and 11\n"
     ]
    }
   ],
   "source": [
    "a=int(input(\"Give a month number between 0 and 11: \"))\n",
    "if a==0:\n",
    "    print(\"31 days\")\n",
    "if a==1:\n",
    "    print(\"28 days\")\n",
    "elif a==2:\n",
    "    print(\"31 days\")\n",
    "elif a==3:\n",
    "    print(\"30 days\")\n",
    "elif a==4:\n",
    "    print(\"31 days\")\n",
    "elif a==5:\n",
    "    print(\"30 days\")\n",
    "elif a==6:\n",
    "    print(\"31 days\")\n",
    "elif a==7:\n",
    "    print(\"31 days\")\n",
    "elif a==8:\n",
    "    print(\"30 days\")\n",
    "elif a==9:\n",
    "    print(\"31 days\")\n",
    "elif a==10:\n",
    "    print(\"30 days\")\n",
    "elif a==11:\n",
    "    print(\"31 days\")\n",
    "else:\n",
    "    print(\"Enter a number between 0 and 11\")"
   ]
  },
  {
   "cell_type": "markdown",
   "id": "484cb6bb",
   "metadata": {},
   "source": []
  },
  {
   "cell_type": "code",
   "execution_count": null,
   "id": "b1483424",
   "metadata": {},
   "outputs": [],
   "source": [
    "a=int(input(\"Enter a year: \"))\n",
    "if a%4==0:\n",
    "    print(\"It is a leap year\")\n",
    "else:\n",
    "    print(\"It is not a leap year\")"
   ]
  },
  {
   "cell_type": "code",
   "execution_count": 11,
   "id": "91334be6",
   "metadata": {},
   "outputs": [
    {
     "name": "stdout",
     "output_type": "stream",
     "text": [
      "Enter a natural number: 14\n",
      "The sum is  70\n"
     ]
    }
   ],
   "source": [
    "#sum(i+3) when i is odd\n",
    "n=int(input(\"Enter a natural number: \"))\n",
    "i=0\n",
    "s=0\n",
    "while i<n:\n",
    "    if i%2!=0:\n",
    "        s=s+i+3\n",
    "    i=i+1\n",
    "\n",
    "print(\"The sum is \", s)        \n"
   ]
  },
  {
   "cell_type": "markdown",
   "id": "c1014625",
   "metadata": {},
   "source": [
    "### Exercice 4"
   ]
  },
  {
   "cell_type": "code",
   "execution_count": 4,
   "id": "f48e7f20",
   "metadata": {},
   "outputs": [
    {
     "name": "stdout",
     "output_type": "stream",
     "text": [
      "Lulu\n",
      "Lulu\n",
      "Lulu\n"
     ]
    }
   ],
   "source": [
    "i=3\n",
    "for i in range(3): \n",
    "    print(f\"Lulu\")\n",
    "    "
   ]
  },
  {
   "cell_type": "code",
   "execution_count": 5,
   "id": "d43f2845",
   "metadata": {},
   "outputs": [
    {
     "name": "stdout",
     "output_type": "stream",
     "text": [
      "Lulu\n",
      "Lulu\n",
      "Lulu\n"
     ]
    }
   ],
   "source": [
    "i=0\n",
    "while i<3:\n",
    "    print(\"Lulu\")\n",
    "    i=i+1"
   ]
  },
  {
   "cell_type": "code",
   "execution_count": 4,
   "id": "b85e552b",
   "metadata": {},
   "outputs": [
    {
     "name": "stdout",
     "output_type": "stream",
     "text": [
      "Give me a natural number3\n",
      "0\n",
      "3\n",
      "6\n",
      "9\n",
      "12\n",
      "15\n",
      "18\n",
      "21\n",
      "24\n"
     ]
    }
   ],
   "source": [
    "#Read an integer number between n 0 and 9 and print its multiplication table up to N\n",
    "#where N is another another natural number read by the program.\n",
    "N=int(input(\"Give me a natural number\"))\n",
    "i=9\n",
    "for i in range(9):\n",
    "    print(N*i)\n"
   ]
  },
  {
   "cell_type": "code",
   "execution_count": 9,
   "id": "1beb3c74",
   "metadata": {},
   "outputs": [
    {
     "name": "stdout",
     "output_type": "stream",
     "text": [
      "Give your number: 6\n",
      "[1, 2, 3, 6]\n"
     ]
    }
   ],
   "source": [
    "#Write python code that prints all the divisors of a given natural number.\n",
    "n=int(input(\"Give your number: \"))\n",
    "#while i<n:\n",
    "   # if n%i==o:\n",
    "        #a=i\n",
    "  #  else:\n",
    "Divisor=[i for i in range(1, n+1) if (n%i==0)]   \n",
    "print(Divisor)"
   ]
  },
  {
   "cell_type": "code",
   "execution_count": 33,
   "id": "31c9ee22",
   "metadata": {},
   "outputs": [
    {
     "name": "stdout",
     "output_type": "stream",
     "text": [
      "Give your natural number: 3\n",
      "The sum is 5\n"
     ]
    }
   ],
   "source": [
    "#Write python code that computes the sum of the square of the first n natural numbers.\n",
    "#One version with a \"for loop\" and another version with a \"while loop\".\n",
    "n=int(input(\"Give your natural number: \"))\n",
    "s=0\n",
    "for i in range(n):\n",
    "    s+=i**2\n",
    "print(f\"The sum is {s}\")"
   ]
  },
  {
   "cell_type": "code",
   "execution_count": 36,
   "id": "fa1a9cea",
   "metadata": {},
   "outputs": [
    {
     "name": "stdout",
     "output_type": "stream",
     "text": [
      "Give your natural number: 3\n",
      "The sum is 5\n"
     ]
    }
   ],
   "source": [
    "N=int(input(\"Give your natural number: \"))\n",
    "i=0\n",
    "x=0\n",
    "while i<N:\n",
    "    x=x+i**2\n",
    "    i=i+1\n",
    "print(\"The sum is\", x)"
   ]
  },
  {
   "cell_type": "markdown",
   "id": "62f98640",
   "metadata": {},
   "source": [
    "###Exercise11"
   ]
  },
  {
   "cell_type": "code",
   "execution_count": 28,
   "id": "4e39eb08",
   "metadata": {},
   "outputs": [
    {
     "name": "stdout",
     "output_type": "stream",
     "text": [
      "[0, 3, 6, 7, 9, 11, 12, 14, 15, 18, 21, 22, 24, 27, 28, 30, 33, 35, 36, 39]\n"
     ]
    }
   ],
   "source": [
    "Multiples=[ i for i in range (0, 40) if (i%3==0) or (i%7==0) or (i%11==0)]\n",
    "print(Multiples)"
   ]
  },
  {
   "cell_type": "markdown",
   "id": "be1ff14b",
   "metadata": {},
   "source": [
    "### The floor of a float x"
   ]
  },
  {
   "cell_type": "code",
   "execution_count": 37,
   "id": "24e35da2",
   "metadata": {},
   "outputs": [
    {
     "name": "stdout",
     "output_type": "stream",
     "text": [
      "Give me your number: 3\n",
      "The product is 15\n"
     ]
    }
   ],
   "source": [
    "#product (x+3) when x is even\n",
    "N=int(input(\"Give me your number: \"))\n",
    "i,p=0,1\n",
    "\n",
    "while i<N:\n",
    "    if i%2==0:\n",
    "        p=p*(i+3)\n",
    "    i=i+1\n",
    "print(f\"The product is {p}\")        "
   ]
  },
  {
   "cell_type": "markdown",
   "id": "d99fdad8",
   "metadata": {},
   "source": [
    "Write python code that prints the floor of a float x. Recall that the floor of a float x is the\n",
    "largest integer value less than or equal to x, i.e. if E[x] is the floor of x, then it satisfies,\n",
    "\n",
    "E[x] = 1 + E[x − 1]\n",
    "\n",
    "PS: On Friday, you will be asked to write a recursive version of the above program."
   ]
  },
  {
   "cell_type": "code",
   "execution_count": 74,
   "id": "69c6d0a6",
   "metadata": {},
   "outputs": [
    {
     "name": "stdout",
     "output_type": "stream",
     "text": [
      "pls enter x: -65.25888\n",
      "-66\n"
     ]
    }
   ],
   "source": [
    "x = float(input(\"pls enter x: \"))\n",
    "if x>0:\n",
    "    print(int(x))\n",
    "elif x <0:\n",
    "    print(int(x)-1)\n",
    "else:\n",
    "    print(x)"
   ]
  },
  {
   "cell_type": "code",
   "execution_count": 67,
   "id": "c34322bb",
   "metadata": {},
   "outputs": [
    {
     "name": "stdout",
     "output_type": "stream",
     "text": [
      "Enter the first number: 4\n",
      "Enter the second number: 2\n",
      "a_0=4\n",
      "a_1=2\n",
      "a_3 =6\n",
      "a_4 =8\n",
      "a_5 =14\n",
      "a_6 =22\n",
      "a_7 =36\n",
      "a_8 =58\n",
      "a_9 =94\n",
      "a_10 =152\n",
      "a_11 =246\n",
      "a_12 =398\n",
      "a_13 =644\n",
      "a_14 =1042\n",
      "a_15 =1686\n"
     ]
    }
   ],
   "source": [
    "#Fibbonaci sequence\n",
    "\n",
    "a_0=int(input(\"Enter the first number: \"))\n",
    "a_1=int(input(\"Enter the second number: \"))\n",
    "\n",
    "print(f\"a_0={a_0}\")\n",
    "print(f\"a_1={a_1}\")\n",
    "for i in range(2,15):\n",
    "    sum=a_0+a_1\n",
    "    print(f\"a_{i+1} ={sum}\")\n",
    "    a_0=a_1\n",
    "    a_1=sum\n",
    "    "
   ]
  },
  {
   "cell_type": "code",
   "execution_count": 68,
   "id": "5b4fbdb2",
   "metadata": {},
   "outputs": [
    {
     "name": "stdout",
     "output_type": "stream",
     "text": [
      "Enter the first number: 4\n",
      "Enter the second number: 2\n",
      "x_0=4\n",
      "x_1=2\n",
      "x_3=8.0\n",
      "x_4=25.0\n",
      "x_5=79.0\n",
      "x_6=249.5\n",
      "x_7=788.0\n",
      "x_8=2488.75\n",
      "x_9=7860.25\n",
      "x_10=24825.125\n",
      "x_11=78405.5\n",
      "x_12=247629.0625\n",
      "x_13=782089.9375\n",
      "x_14=2470084.34375\n",
      "x_15=7801298.0\n",
      "x_16=24638936.171875\n",
      "x_17=77817457.515625\n",
      "x_18=245771840.6328125\n",
      "x_19=776224250.65625\n",
      "x_20=2451558672.2851562\n",
      "x_21=7742788142.183594\n",
      "x_22=24454143762.69336\n",
      "x_23=77233825359.17188\n",
      "x_24=243928547958.8623\n",
      "x_25=770402556556.1729\n",
      "x_26=2433171943647.9497\n",
      "x_27=7684717109221.936\n",
      "x_28=24270737299489.78\n",
      "x_29=76654570453080.31\n",
      "x_30=242099080008985.8\n"
     ]
    }
   ],
   "source": [
    "#seq of the first 30 terms of 2x_2-x_1-6x=0\n",
    "x_0=int(input(\"Enter the first number: \"))\n",
    "x_1=int(input(\"Enter the second number: \"))\n",
    "print(f\"x_0={x_0}\")\n",
    "print(f\"x_1={x_1}\")\n",
    "\n",
    "for i in range(2,30):\n",
    "    summ=x_0/2+3*x_1\n",
    "    print(f\"x_{i+1}={summ}\")\n",
    "    x_0=x_1\n",
    "    x_1=summ\n",
    "    "
   ]
  },
  {
   "cell_type": "code",
   "execution_count": 59,
   "id": "deeac3e7",
   "metadata": {},
   "outputs": [
    {
     "name": "stdout",
     "output_type": "stream",
     "text": [
      "Give me the coordinate on x-component: 5\n",
      "Give me the coordinate on y-component: -7\n",
      "It is the 4th quadrant\n"
     ]
    }
   ],
   "source": [
    "#quadrant\n",
    "x=float(input(\"Give me the coordinate on x-component: \"))\n",
    "y=float(input(\"Give me the coordinate on y-component: \"))\n",
    "if x==0 and y==0:\n",
    "    print(\"It is the origin\")\n",
    "elif x>0:\n",
    "    if y>0:\n",
    "        print(\"It is the 1st quadrant\")\n",
    "    else:\n",
    "         print(\"It is the 4th quadrant\")\n",
    "else:\n",
    "    if y<0:\n",
    "        print(\"It is the 3rd quadrant\")\n",
    "    else:\n",
    "        print(\"It is the second quadrant\")"
   ]
  },
  {
   "cell_type": "code",
   "execution_count": null,
   "id": "49aee7c9",
   "metadata": {},
   "outputs": [],
   "source": []
  },
  {
   "cell_type": "code",
   "execution_count": null,
   "id": "9003fb6f",
   "metadata": {},
   "outputs": [],
   "source": [
    "#8.b\n",
    "t=int(input(\"Give me a number: \"))\n",
    "Sum="
   ]
  }
 ],
 "metadata": {
  "kernelspec": {
   "display_name": "Python 3 (ipykernel)",
   "language": "python",
   "name": "python3"
  },
  "language_info": {
   "codemirror_mode": {
    "name": "ipython",
    "version": 3
   },
   "file_extension": ".py",
   "mimetype": "text/x-python",
   "name": "python",
   "nbconvert_exporter": "python",
   "pygments_lexer": "ipython3",
   "version": "3.11.2"
  }
 },
 "nbformat": 4,
 "nbformat_minor": 5
}
