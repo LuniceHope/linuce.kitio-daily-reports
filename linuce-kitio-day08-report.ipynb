{
 "cells": [
  {
   "cell_type": "markdown",
   "id": "82e29586",
   "metadata": {},
   "source": [
    "# PyPro:CHALLENGE 1\n"
   ]
  },
  {
   "cell_type": "markdown",
   "id": "86b8ed8c",
   "metadata": {},
   "source": [
    "### 1.Create a function find_max() that accepts two numeric inputs and returns the greater value. Avoid using the built-in max() function."
   ]
  },
  {
   "cell_type": "code",
   "execution_count": null,
   "id": "9f0255a8",
   "metadata": {},
   "outputs": [],
   "source": []
  },
  {
   "cell_type": "code",
   "execution_count": 5,
   "id": "3959d4c0",
   "metadata": {},
   "outputs": [
    {
     "name": "stdout",
     "output_type": "stream",
     "text": [
      "The maximum is 7\n"
     ]
    }
   ],
   "source": [
    "def find_max(a,b):\n",
    "    #a = float(input(\"Enter the first number: \"))\n",
    "    #b=float(input(\"Enter the second number: \"))\n",
    "    if a < b:\n",
    "        Max=b\n",
    "    else:  \n",
    "        Max=a\n",
    "    return print(\"The maximum is\", Max)\n",
    "find_max(5,7)"
   ]
  },
  {
   "cell_type": "markdown",
   "id": "43dab922",
   "metadata": {},
   "source": [
    "### 2. Develop a function find_max_of_three() to find the maximum among three given numbers."
   ]
  },
  {
   "cell_type": "code",
   "execution_count": 8,
   "id": "44c3fcd6",
   "metadata": {},
   "outputs": [
    {
     "name": "stdout",
     "output_type": "stream",
     "text": [
      "The maximum is 19\n"
     ]
    }
   ],
   "source": [
    "#Function2\n",
    "def find_max_of_three(a,b,c):\n",
    "    #a,b,c = input(\"Enter your numbers: \").split()\n",
    "   # b=input(\"Enter the second number: \", \", \")\n",
    "   # c=input(\"Enter the third number: \")\n",
    "    if a > b:\n",
    "        if a>c:\n",
    "            Max=a\n",
    "        else:\n",
    "            Max=c\n",
    "    else: \n",
    "        if b<c:\n",
    "            Max=c\n",
    "        else:\n",
    "            Max=b\n",
    "    return print(\"The maximum is\", Max)\n",
    "find_max_of_three(9,-6,19)"
   ]
  },
  {
   "cell_type": "markdown",
   "id": "214dfae3",
   "metadata": {},
   "source": [
    "### 3. Write a function to manually calculate the length of a given list or string without using len()."
   ]
  },
  {
   "cell_type": "code",
   "execution_count": 32,
   "id": "eee62aad",
   "metadata": {},
   "outputs": [
    {
     "data": {
      "text/plain": [
       "4"
      ]
     },
     "execution_count": 32,
     "metadata": {},
     "output_type": "execute_result"
    }
   ],
   "source": [
    "c=0\n",
    "def calcul_lenght(S):\n",
    "    #S=input(\"Enter your string: \")\n",
    "    #ch='charac'\n",
    "    c=0\n",
    "    for i in S:\n",
    "        c=c+1\n",
    "    return c   \n",
    "calcul_lenght(\"opiu\")"
   ]
  },
  {
   "cell_type": "markdown",
   "id": "8b5c67e3",
   "metadata": {},
   "source": [
    "### 4. Implement a function that checks if a given character is a vowel (a, e, i, o, u)."
   ]
  },
  {
   "cell_type": "code",
   "execution_count": 13,
   "id": "00c512ec",
   "metadata": {},
   "outputs": [
    {
     "name": "stdout",
     "output_type": "stream",
     "text": [
      "It is not a vowel\n"
     ]
    }
   ],
   "source": [
    "def Check(t):\n",
    "    Vowel={'a','e','o','u','i'}\n",
    "    if t in Vowel:\n",
    "        print(\"Your character is a vowel\")\n",
    "    else:\n",
    "        print(\"It is not a vowel\")\n",
    "Check('y')    \n",
    "    "
   ]
  },
  {
   "cell_type": "markdown",
   "id": "3eb4a18e",
   "metadata": {},
   "source": [
    "### 5. Write a function encode() that converts a string into “rövarspråket” (robber’s language) by doubling consonants and placing “o” in between, e.g., “hello” -> “hohelollolo”."
   ]
  },
  {
   "cell_type": "code",
   "execution_count": 35,
   "id": "fe6f71f3",
   "metadata": {},
   "outputs": [
    {
     "name": "stdout",
     "output_type": "stream",
     "text": [
      "Enter your string: lulu\n"
     ]
    },
    {
     "data": {
      "text/plain": [
       "'lolulolu'"
      ]
     },
     "execution_count": 35,
     "metadata": {},
     "output_type": "execute_result"
    }
   ],
   "source": [
    "Vowel={'a','e','o','u','i'}\n",
    "def encode(s):\n",
    "    s=input(\"Enter your string: \")\n",
    "    char_list=list(s)\n",
    "    #s1 = ''\n",
    "    \n",
    "    for i in range(len(char_list)):\n",
    "        if char_list[i] not in Vowel:\n",
    "            char_list[i] = char_list[i] + \"o\"+ char_list[i]\n",
    "    final_S = ''\n",
    "    for i in range(len(char_list)):\n",
    "        final_S = final_S + char_list[i]\n",
    "        \n",
    "    return final_S\n",
    "encode(\"s\")"
   ]
  },
  {
   "cell_type": "markdown",
   "id": "b6a4925c",
   "metadata": {},
   "source": [
    "### 6. Create sum_elements() and product_elements() functions to sum and multiply all elements in a list, respectively."
   ]
  },
  {
   "cell_type": "code",
   "execution_count": 2,
   "id": "1f33d3ae",
   "metadata": {},
   "outputs": [
    {
     "name": "stdout",
     "output_type": "stream",
     "text": [
      "write a list1,2,3,4\n",
      "The sum of all elements in this list is 10\n"
     ]
    }
   ],
   "source": [
    "x=input(\"write a list\")\n",
    "l=[int(i) for i in x.split(\",\")]\n",
    "\n",
    "def sum_elements(l):\n",
    "    sm=0\n",
    "    for i in l:\n",
    "        sm=sm+i\n",
    "    print(f\"The sum of all elements in this list is {sm}\")\n",
    "sum_elements(l)\n",
    "\n",
    "   \n"
   ]
  },
  {
   "cell_type": "markdown",
   "id": "d4a66c05",
   "metadata": {},
   "source": [
    "### For the product_elements() function"
   ]
  },
  {
   "cell_type": "code",
   "execution_count": 3,
   "id": "02426bc8",
   "metadata": {},
   "outputs": [
    {
     "name": "stdout",
     "output_type": "stream",
     "text": [
      "write a list1,3,5\n",
      "The sum of all elements in this list is 15\n"
     ]
    }
   ],
   "source": [
    "x=input(\"write a list\")\n",
    "l=[int(i) for i in x.split(\",\")]\n",
    "\n",
    "def product_elements(l):\n",
    "    pm=1\n",
    "    for i in l:\n",
    "        pm=pm*i\n",
    "    print(f\"The sum of all elements in this list is {pm}\")\n",
    "product_elements(l)"
   ]
  },
  {
   "cell_type": "markdown",
   "id": "5189a540",
   "metadata": {},
   "source": [
    "### 7.Define a function reverse_string() to reverse the characters in a given string."
   ]
  },
  {
   "cell_type": "code",
   "execution_count": 2,
   "id": "6a60cb3a",
   "metadata": {},
   "outputs": [
    {
     "name": "stdout",
     "output_type": "stream",
     "text": [
      "Help on built-in function pop:\n",
      "\n",
      "pop(index=-1, /) method of builtins.list instance\n",
      "    Remove and return item at index (default last).\n",
      "    \n",
      "    Raises IndexError if list is empty or index is out of range.\n",
      "\n"
     ]
    }
   ],
   "source": [
    "liste = [3,5,6,7,4]\n",
    "help(liste.pop)"
   ]
  },
  {
   "cell_type": "code",
   "execution_count": 3,
   "id": "58636e99",
   "metadata": {},
   "outputs": [
    {
     "data": {
      "text/plain": [
       "'mem'"
      ]
     },
     "execution_count": 3,
     "metadata": {},
     "output_type": "execute_result"
    }
   ],
   "source": [
    "#ss=input(\"Enter your list: \")\n",
    "def reverse_string(ss):\n",
    "    C_list=list(ss)\n",
    "    final = []\n",
    "    for i in range(len(C_list)):\n",
    "        final.append(C_list[-i-1]) #C_list[i]=C_list[len(C_list)-i-1]\n",
    "        #C_list.pop(C_list[-1])\n",
    "    #print(final)    \n",
    "    SS=''\n",
    "    for i in range(len(final)):\n",
    "        SS=SS+final[i]\n",
    "    return SS\n",
    "reverse_string('mem')"
   ]
  },
  {
   "cell_type": "code",
   "execution_count": 24,
   "id": "52279f00",
   "metadata": {},
   "outputs": [
    {
     "name": "stdout",
     "output_type": "stream",
     "text": [
      "7\n",
      "7\n",
      "6\n",
      "5\n",
      "4\n",
      "4\n",
      "3\n",
      "2\n"
     ]
    }
   ],
   "source": [
    "\n",
    "liste = [2,3,4,4,5,6,7,7]\n",
    "for i in range(len(liste)):\n",
    "    print(liste[-i-1])"
   ]
  },
  {
   "cell_type": "markdown",
   "id": "858437ae",
   "metadata": {},
   "source": [
    "### 8. Implement check_palindrome() to verify if a string reads the same forwards and backwards, i.e. is a palindrome."
   ]
  },
  {
   "cell_type": "code",
   "execution_count": 4,
   "id": "ba03662e",
   "metadata": {},
   "outputs": [
    {
     "name": "stdout",
     "output_type": "stream",
     "text": [
      "It is not a palindrome\n"
     ]
    }
   ],
   "source": [
    "def check_palindrome(ts):\n",
    "    if 'ts'==reverse_string('ts'):\n",
    "        print(\"It is correct\")\n",
    "    else:\n",
    "        print(\"It is not a palindrome\")\n",
    "check_palindrome('nhu')"
   ]
  },
  {
   "cell_type": "code",
   "execution_count": null,
   "id": "ae5afa3e",
   "metadata": {},
   "outputs": [],
   "source": []
  },
  {
   "cell_type": "code",
   "execution_count": null,
   "id": "3010ae40",
   "metadata": {},
   "outputs": [],
   "source": []
  }
 ],
 "metadata": {
  "kernelspec": {
   "display_name": "Python 3 (ipykernel)",
   "language": "python",
   "name": "python3"
  },
  "language_info": {
   "codemirror_mode": {
    "name": "ipython",
    "version": 3
   },
   "file_extension": ".py",
   "mimetype": "text/x-python",
   "name": "python",
   "nbconvert_exporter": "python",
   "pygments_lexer": "ipython3",
   "version": "3.11.2"
  }
 },
 "nbformat": 4,
 "nbformat_minor": 5
}
