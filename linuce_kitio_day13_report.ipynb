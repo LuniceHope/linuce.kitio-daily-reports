{
 "cells": [
  {
   "cell_type": "markdown",
   "metadata": {
    "id": "53N3iK03l1e2"
   },
   "source": [
    "# PyPro: Challenge 3\n",
    "\n",
    "### This challenge is due on Saturday, October 10th, 2024, at 8pm.\n",
    "\n",
    "`These exercises offer a diverse array of tasks that assess your comprehension of fundamental Python concepts such as loops, data types, string manipulations, list comprehensions, and higher-order functions.`\n",
    "\n",
    "\n",
    "\n",
    "Here is the given text in proper markdown format with numbered questions:\n",
    "\n",
    "# PyPro Challenges\n",
    "\n",
    "1. **Perfect Numbers Calculation**  \n",
    "   By definition, a natural number is called a perfect number if its value is equal to the sum of its divisors. For example, 6 and 28 are perfect numbers:\n",
    "   \n",
    "   ```\n",
    "   1 + 2 + 3 = 6\n",
    "   1 + 2 + 4 + 7 + 14 = 28\n",
    "   ```\n",
    "   \n",
    "   Write a function `calc_perfect_numbers(max_exclusive)` that calculates all perfect numbers up to a maximum value, such as 10,000."
   ]
  },
  {
   "cell_type": "code",
   "execution_count": 2,
   "metadata": {},
   "outputs": [
    {
     "data": {
      "text/plain": [
       "0"
      ]
     },
     "execution_count": 2,
     "metadata": {},
     "output_type": "execute_result"
    }
   ],
   "source": [
    "def calc_perfect_numb(m):\n",
    "    Lu=[]\n",
    "    L=[i for i in range (1,m) if (m%i==0)]\n",
    "    s=sum(L)\n",
    "    if sum(L)==m:\n",
    "        return 1\n",
    "    else:\n",
    "        return 0\n",
    "calc_perfect_numb(29)"
   ]
  },
  {
   "cell_type": "code",
   "execution_count": 4,
   "metadata": {},
   "outputs": [
    {
     "data": {
      "text/plain": [
       "[6, 28]"
      ]
     },
     "execution_count": 4,
     "metadata": {},
     "output_type": "execute_result"
    }
   ],
   "source": [
    "def calc_perfect_numbers(M):\n",
    "    Lt=[n for n in range(1,M) if calc_perfect_numb(n)==1]\n",
    "    return Lt\n",
    "calc_perfect_numbers(64)"
   ]
  },
  {
   "cell_type": "code",
   "execution_count": null,
   "metadata": {},
   "outputs": [
    {
     "name": "stdout",
     "output_type": "stream",
     "text": [
      "\n",
      "Welcome to Python 3.11's help utility!\n",
      "\n",
      "If this is your first time using Python, you should definitely check out\n",
      "the tutorial on the internet at https://docs.python.org/3.11/tutorial/.\n",
      "\n",
      "Enter the name of any module, keyword, or topic to get help on writing\n",
      "Python programs and using Python modules.  To quit this help utility and\n",
      "return to the interpreter, just type \"quit\".\n",
      "\n",
      "To get a list of available modules, keywords, symbols, or topics, type\n",
      "\"modules\", \"keywords\", \"symbols\", or \"topics\".  Each module also comes\n",
      "with a one-line summary of what it does; to list the modules whose name\n",
      "or summary contain a given string such as \"spam\", type \"modules spam\".\n",
      "\n",
      "help> list\n",
      "Help on class list in module builtins:\n",
      "\n",
      "class list(object)\n",
      " |  list(iterable=(), /)\n",
      " |  \n",
      " |  Built-in mutable sequence.\n",
      " |  \n",
      " |  If no argument is given, the constructor creates a new empty list.\n",
      " |  The argument must be an iterable if specified.\n",
      " |  \n",
      " |  Methods defined here:\n",
      " |  \n",
      " |  __add__(self, value, /)\n",
      " |      Return self+value.\n",
      " |  \n",
      " |  __contains__(self, key, /)\n",
      " |      Return key in self.\n",
      " |  \n",
      " |  __delitem__(self, key, /)\n",
      " |      Delete self[key].\n",
      " |  \n",
      " |  __eq__(self, value, /)\n",
      " |      Return self==value.\n",
      " |  \n",
      " |  __ge__(self, value, /)\n",
      " |      Return self>=value.\n",
      " |  \n",
      " |  __getattribute__(self, name, /)\n",
      " |      Return getattr(self, name).\n",
      " |  \n",
      " |  __getitem__(...)\n",
      " |      x.__getitem__(y) <==> x[y]\n",
      " |  \n",
      " |  __gt__(self, value, /)\n",
      " |      Return self>value.\n",
      " |  \n",
      " |  __iadd__(self, value, /)\n",
      " |      Implement self+=value.\n",
      " |  \n",
      " |  __imul__(self, value, /)\n",
      " |      Implement self*=value.\n",
      " |  \n",
      " |  __init__(self, /, *args, **kwargs)\n",
      " |      Initialize self.  See help(type(self)) for accurate signature.\n",
      " |  \n",
      " |  __iter__(self, /)\n",
      " |      Implement iter(self).\n",
      " |  \n",
      " |  __le__(self, value, /)\n",
      " |      Return self<=value.\n",
      " |  \n",
      " |  __len__(self, /)\n",
      " |      Return len(self).\n",
      " |  \n",
      " |  __lt__(self, value, /)\n",
      " |      Return self<value.\n",
      " |  \n",
      " |  __mul__(self, value, /)\n",
      " |      Return self*value.\n",
      " |  \n",
      " |  __ne__(self, value, /)\n",
      " |      Return self!=value.\n",
      " |  \n",
      " |  __repr__(self, /)\n",
      " |      Return repr(self).\n",
      " |  \n",
      " |  __reversed__(self, /)\n",
      " |      Return a reverse iterator over the list.\n",
      " |  \n",
      " |  __rmul__(self, value, /)\n",
      " |      Return value*self.\n",
      " |  \n",
      " |  __setitem__(self, key, value, /)\n",
      " |      Set self[key] to value.\n",
      " |  \n",
      " |  __sizeof__(self, /)\n",
      " |      Return the size of the list in memory, in bytes.\n",
      " |  \n",
      " |  append(self, object, /)\n",
      " |      Append object to the end of the list.\n",
      " |  \n",
      " |  clear(self, /)\n",
      " |      Remove all items from list.\n",
      " |  \n",
      " |  copy(self, /)\n",
      " |      Return a shallow copy of the list.\n",
      " |  \n",
      " |  count(self, value, /)\n",
      " |      Return number of occurrences of value.\n",
      " |  \n",
      " |  extend(self, iterable, /)\n",
      " |      Extend list by appending elements from the iterable.\n",
      " |  \n",
      " |  index(self, value, start=0, stop=9223372036854775807, /)\n",
      " |      Return first index of value.\n",
      " |      \n",
      " |      Raises ValueError if the value is not present.\n",
      " |  \n",
      " |  insert(self, index, object, /)\n",
      " |      Insert object before index.\n",
      " |  \n",
      " |  pop(self, index=-1, /)\n",
      " |      Remove and return item at index (default last).\n",
      " |      \n",
      " |      Raises IndexError if list is empty or index is out of range.\n",
      " |  \n",
      " |  remove(self, value, /)\n",
      " |      Remove first occurrence of value.\n",
      " |      \n",
      " |      Raises ValueError if the value is not present.\n",
      " |  \n",
      " |  reverse(self, /)\n",
      " |      Reverse *IN PLACE*.\n",
      " |  \n",
      " |  sort(self, /, *, key=None, reverse=False)\n",
      " |      Sort the list in ascending order and return None.\n",
      " |      \n",
      " |      The sort is in-place (i.e. the list itself is modified) and stable (i.e. the\n",
      " |      order of two equal elements is maintained).\n",
      " |      \n",
      " |      If a key function is given, apply it once to each list item and sort them,\n",
      " |      ascending or descending, according to their function values.\n",
      " |      \n",
      " |      The reverse flag can be set to sort in descending order.\n",
      " |  \n",
      " |  ----------------------------------------------------------------------\n",
      " |  Class methods defined here:\n",
      " |  \n",
      " |  __class_getitem__(...) from builtins.type\n",
      " |      See PEP 585\n",
      " |  \n",
      " |  ----------------------------------------------------------------------\n",
      " |  Static methods defined here:\n",
      " |  \n",
      " |  __new__(*args, **kwargs) from builtins.type\n",
      " |      Create and return a new object.  See help(type) for accurate signature.\n",
      " |  \n",
      " |  ----------------------------------------------------------------------\n",
      " |  Data and other attributes defined here:\n",
      " |  \n",
      " |  __hash__ = None\n",
      "\n"
     ]
    }
   ],
   "source": [
    "help()"
   ]
  },
  {
   "cell_type": "markdown",
   "metadata": {
    "id": "53N3iK03l1e2"
   },
   "source": [
    "2. **Prime Numbers Calculation**  \n",
    "   Write a function `calc_primes_up_to(max_value)` to compute all prime numbers up to a given value. A prime number is a natural number greater than 1 that is only divisible by 1 and itself. The Sieve of Eratosthenes is a useful algorithm for this task.  \n",
    "   Test your algorithm with the following values:\n",
    "   \n",
    "   | Input | Result                                      |\n",
    "   |-------|---------------------------------------------|\n",
    "   | 15    | [2, 3, 5, 7, 11, 13]                        |\n",
    "   | 25    | [2, 3, 5, 7, 11, 13, 17, 19, 23]            |\n",
    "   | 50    | [2, 3, 5, 7, 11, 13, 17, 19, 23, 29, 31...] |"
   ]
  },
  {
   "cell_type": "code",
   "execution_count": 6,
   "metadata": {},
   "outputs": [
    {
     "data": {
      "text/plain": [
       "0"
      ]
     },
     "execution_count": 6,
     "metadata": {},
     "output_type": "execute_result"
    }
   ],
   "source": [
    "def calc_primes(t):\n",
    "    Ls=[i for i in range(1,t+1) if t%i==0]\n",
    "    if sum(Ls)==t+1:\n",
    "        return 1\n",
    "    else:\n",
    "        return 0\n",
    "calc_primes(14)"
   ]
  },
  {
   "cell_type": "code",
   "execution_count": 7,
   "metadata": {},
   "outputs": [
    {
     "data": {
      "text/plain": [
       "[2, 3, 5, 7, 11, 13, 17, 19, 23, 29, 31, 37, 41, 43, 47]"
      ]
     },
     "execution_count": 7,
     "metadata": {},
     "output_type": "execute_result"
    }
   ],
   "source": [
    "def calc_primes_up_to(T):\n",
    "    Pm=[p for p in range(1,T) if calc_primes(p)]\n",
    "    return Pm\n",
    "calc_primes_up_to(50)"
   ]
  },
  {
   "cell_type": "markdown",
   "metadata": {
    "id": "53N3iK03l1e2"
   },
   "source": [
    "3. **Twin, Cousin, and Sexy Prime Numbers**  \n",
    "   Compute all pairs of prime numbers with a distance of 2 (twin), 4 (cousin), and 6 (sexy) up to an upper bound `n`.  \n",
    "   For example, for `limit=50`, the expected results are:\n",
    "   \n",
    "   - **Twins**: `{3: 5, 5: 7, 11: 13, 17: 19, 29: 31, 41: 43}`\n",
    "   - **Cousins**: `{3: 7, 7: 11, 13: 17, 19: 23, 37: 41, 43: 47}`\n",
    "   - **Sexy**: `{5: 11, 7: 13, 11: 17, 13: 19, 17: 23, 23: 29, 31: 37, 37: 43, 41: 47, 47: 53}`"
   ]
  },
  {
   "cell_type": "code",
   "execution_count": 37,
   "metadata": {},
   "outputs": [
    {
     "data": {
      "text/plain": [
       "({3: 5, 5: 7, 11: 13, 17: 19, 29: 31, 41: 43},\n",
       " {3: 7, 7: 11, 13: 17, 19: 23, 37: 41, 43: 47},\n",
       " {5: 11, 7: 13, 11: 17, 13: 19, 17: 23, 23: 29, 31: 37, 37: 43, 41: 47})"
      ]
     },
     "execution_count": 37,
     "metadata": {},
     "output_type": "execute_result"
    }
   ],
   "source": [
    "T={}\n",
    "C={}\n",
    "S={}\n",
    "def twin_cous(vm):\n",
    "    Pm=calc_primes_up_to(vm)\n",
    "    for i in range(len(Pm)):\n",
    "        for j in range(len(Pm)):\n",
    "            if Pm[i]-Pm[j] == 2:\n",
    "                T[Pm[j]]=Pm[i]\n",
    "        for j in range(len(Pm)):\n",
    "            if Pm[i]-Pm[j]==4:\n",
    "                C[Pm[j]]=Pm[i]\n",
    "        for j in range(len(Pm)):\n",
    "             if Pm[i]-Pm[j]==6:\n",
    "                S[Pm[j]]=Pm[i]\n",
    "    return T,C,S\n",
    "twin_cous(50)\n",
    "\n",
    "    \n",
    "    \n",
    "\n"
   ]
  },
  {
   "cell_type": "markdown",
   "metadata": {
    "id": "53N3iK03l1e2"
   },
   "source": [
    "4. **Sum of Digits (Recursive)**  \n",
    "   Write a recursive function `calc_sum_of_digits(value)` that calculates the sum of the digits of a given number.  \n",
    "   Examples:\n",
    "   \n",
    "   | Input  | Number of Digits | Cross Sum         |\n",
    "   |--------|------------------|-------------------|\n",
    "   | 1234   | 4                | 1 + 2 + 3 + 4 = 10|\n",
    "   | 1234567| 7                | 1 + 2 + 3 + ... 7 = 28|"
   ]
  },
  {
   "cell_type": "code",
   "execution_count": 30,
   "metadata": {},
   "outputs": [
    {
     "name": "stdout",
     "output_type": "stream",
     "text": [
      "Give a digit1234\n"
     ]
    },
    {
     "data": {
      "text/plain": [
       "10"
      ]
     },
     "execution_count": 30,
     "metadata": {},
     "output_type": "execute_result"
    }
   ],
   "source": [
    "#s==0\n",
    "def calc_sum_of_digits(v):\n",
    "    s=0\n",
    "    sd=list(v)\n",
    "    for i in range(len(sd)):\n",
    "        s+=int(sd[i])\n",
    "    return s\n",
    "v=input(\"Give a digit \")\n",
    "calc_sum_of_digits(v)"
   ]
  },
  {
   "cell_type": "code",
   "execution_count": null,
   "metadata": {},
   "outputs": [],
   "source": [
    "def calc_sum_of_digits(v):\n",
    "    s=0\n",
    "    sd=list(v)\n",
    "    for i in range(len(sd)):\n",
    "        s=int(sd[i])+calc_sum_of_digits()\n",
    "    return s\n",
    "v=input(\"Give a digit \")\n",
    "calc_sum_of_digits(v)"
   ]
  },
  {
   "cell_type": "markdown",
   "metadata": {
    "id": "53N3iK03l1e2"
   },
   "source": [
    "5. **Convert to Binary (Recursive)**  \n",
    "   Write a function `to_binary(n)` that recursively converts the given positive integer into its binary string representation (without using `int(x, base)`).  \n",
    "   Examples:\n",
    "   \n",
    "   | Input | Result       |\n",
    "   |-------|--------------|\n",
    "   | 5     | \"101\"        |\n",
    "   | 7     | \"111\"        |\n",
    "   | 22    | \"10110\"      |\n",
    "   | 42    | \"101010\"     |\n",
    "   | 256   | \"100000000\"  |"
   ]
  },
  {
   "cell_type": "code",
   "execution_count": 2,
   "metadata": {},
   "outputs": [
    {
     "data": {
      "text/plain": [
       "1111"
      ]
     },
     "execution_count": 2,
     "metadata": {},
     "output_type": "execute_result"
    }
   ],
   "source": [
    "def to_binary(n):\n",
    "    if n==0:\n",
    "        return 0\n",
    "    else:\n",
    "        return (n%2+10*to_binary(int(n//2)))\n",
    "n=15\n",
    "to_binary(n)"
   ]
  },
  {
   "cell_type": "markdown",
   "metadata": {
    "id": "53N3iK03l1e2"
   },
   "source": [
    "6. **Letter Permutations**  \n",
    "   Write a function `calc_permutations(text)` that calculates all possible permutations of the characters in the given string. Handle duplicate letters but avoid using Python's `itertools.permutations()`.  \n",
    "   Examples:\n",
    "   \n",
    "   | Input | Result                                       |\n",
    "   |-------|----------------------------------------------|\n",
    "   | \"a\"   | \"a\"                                          |\n",
    "   | \"aa\"  | \"aa\"                                         |\n",
    "   | \"aB\"  | \"aB\", \"Ba\"                                   |\n",
    "   | \"aBC\" | \"aBC\", \"BaC\", \"aCB\", \"CaB\", \"CBa\", \"BCa\"     |\n",
    "   | \"aaC\" | \"aaC\", \"aCa\", \"Caa\"                          |"
   ]
  },
  {
   "cell_type": "code",
   "execution_count": null,
   "metadata": {},
   "outputs": [],
   "source": [
    "def calc_permutations():\n",
    "    "
   ]
  },
  {
   "cell_type": "markdown",
   "metadata": {
    "id": "53N3iK03l1e2"
   },
   "source": [
    "7. **Join Strings with Delimiter**  \n",
    "   Write a function `join(values, delimiter)` that joins a list of strings with the given delimiter and returns it as a single string. Implement this without using Python's built-in `join()` function.  \n",
    "   Example:\n",
    "   \n",
    "   - Input: `[\"hello\", \"world\", \"message\"]`, `\" +++ \"`\n",
    "   - Result: `\"hello +++ world +++ message\"`"
   ]
  },
  {
   "cell_type": "code",
   "execution_count": 47,
   "metadata": {},
   "outputs": [
    {
     "data": {
      "text/plain": [
       "'hello +++ world +++ message'"
      ]
     },
     "execution_count": 47,
     "metadata": {},
     "output_type": "execute_result"
    }
   ],
   "source": [
    "def join(val,deli):\n",
    "    v=''\n",
    "    for i in range(len(val)-1):\n",
    "        v+=val[i]+deli\n",
    "    V=v+val[-1]\n",
    "    return V\n",
    "val=[\"hello\",\"world\",\"message\"]\n",
    "deli=\" +++ \"\n",
    "join(val,deli)\n",
    "    \n",
    "\n",
    "        \n",
    "    \n",
    "\n",
    "    "
   ]
  },
  {
   "cell_type": "markdown",
   "metadata": {
    "id": "53N3iK03l1e2"
   },
   "source": [
    "8. **Pascal's Triangle**  \n",
    "   Write a function `pascal(n)` that computes Pascal’s triangle as nested lists. Each line is generated from the previous one, with sums of adjacent numbers and a 1 at the beginning and end.  \n",
    "   Example for `n=5`:\n",
    "   \n",
    "   ```\n",
    "   [1]\n",
    "   [1, 1]\n",
    "   [1, 2, 1]\n",
    "   [1, 3, 3, 1]\n",
    "   [1, 4, 6, 4, 1]\n",
    "   ```"
   ]
  },
  {
   "cell_type": "code",
   "execution_count": null,
   "metadata": {},
   "outputs": [],
   "source": []
  },
  {
   "cell_type": "markdown",
   "metadata": {
    "id": "53N3iK03l1e2"
   },
   "source": [
    "9. **Contains All Values**  \n",
    "   Write a function `contains_all(values, search_values)` that checks if all search values are present in the given list. Do not use Python's `all()` function.  \n",
    "   Examples:\n",
    "   \n",
    "   | Input                         | Search Values | Result |\n",
    "   |-------------------------------|---------------|--------|\n",
    "   | `[0, 1, 2, 3, 4, 5, 6, 7, 8, 9]` | `[7, 2]`      | True   |\n",
    "   | `[0, 1, 2, 3, 4, 5, 6, 7, 8, 9]` | `[5, 11]`     | False  |"
   ]
  },
  {
   "cell_type": "code",
   "execution_count": 2,
   "metadata": {},
   "outputs": [
    {
     "data": {
      "text/plain": [
       "True"
      ]
     },
     "execution_count": 2,
     "metadata": {},
     "output_type": "execute_result"
    }
   ],
   "source": [
    "def contains_all(vals,se_val):\n",
    "    \n",
    "    Lst=[i for i in range(len(se_val)) if se_val[i] in vals]\n",
    "    if range(len(se_val))==range(len(Lst)):\n",
    "        return True\n",
    "    else:\n",
    "        return False\n",
    "\n",
    "    \n",
    "    #for i in range(len(se_val)):\n",
    "       # if se_val[i] in L:\n",
    "          #  return 1\n",
    "       # else:\n",
    "            #return 0\n",
    "   # return \n",
    "se_val=[7,12]\n",
    "vals=[1,5,8,9,6,4,7,12,25,34,18,17,45]\n",
    "contains_all(vals,se_val)"
   ]
  },
  {
   "cell_type": "markdown",
   "metadata": {
    "id": "53N3iK03l1e2"
   },
   "source": [
    "10. **Optimized Insertion Sort**  \n",
    "    Rewrite the insertion sort algorithm to perform the sorting in one pass by finding the correct insertion point and swapping elements. Write an optimized version of `insertion_sort(values)`.  \n",
    "    Example:\n",
    "    \n",
    "    - Input: `[7, 2, 5, 1, 6, 8, 9, 4, 3]`\n",
    "    - Result: `[1, 2, 3, 4, 5, 6, 7, 8, 9]`\n",
    "    \n",
    "    \n",
    "    \n",
    "    \n",
    "    \n",
    "    \n",
    "    \n",
    "Here are the problems with the corresponding Wikipedia links for reference:\n",
    "\n",
    "---"
   ]
  },
  {
   "cell_type": "code",
   "execution_count": null,
   "metadata": {},
   "outputs": [],
   "source": []
  },
  {
   "cell_type": "markdown",
   "metadata": {
    "id": "53N3iK03l1e2"
   },
   "source": [
    "11. **Sudoku Solver**  \n",
    "    Write a function `solve_sudoku(board)` that solves a given 9x9 Sudoku puzzle using backtracking. The puzzle is represented as a 2D list with '0' indicating empty cells. The function should modify the board in-place and return `True` if the puzzle is solved, otherwise `False`.  \n",
    "    [Sudoku - Wikipedia](https://en.wikipedia.org/wiki/Sudoku)  \n",
    "    Example Input:\n",
    "    ```python\n",
    "    board = [\n",
    "        [5, 3, 0, 0, 7, 0, 0, 0, 0],\n",
    "        [6, 0, 0, 1, 9, 5, 0, 0, 0],\n",
    "        [0, 9, 8, 0, 0, 0, 0, 6, 0],\n",
    "        [8, 0, 0, 0, 6, 0, 0, 0, 3],\n",
    "        [4, 0, 0, 8, 0, 3, 0, 0, 1],\n",
    "        [7, 0, 0, 0, 2, 0, 0, 0, 6],\n",
    "        [0, 6, 0, 0, 0, 0, 2, 8, 0],\n",
    "        [0, 0, 0, 4, 1, 9, 0, 0, 5],\n",
    "        [0, 0, 0, 0, 8, 0, 0, 7, 9]\n",
    "    ]\n",
    "    ```\n",
    "    Example Output:\n",
    "    ```python\n",
    "    board = [\n",
    "        [5, 3, 4, 6, 7, 8, 9, 1, 2],\n",
    "        [6, 7, 2, 1, 9, 5, 3, 4, 8],\n",
    "        [1, 9, 8, 3, 4, 2, 5, 6, 7],\n",
    "        [8, 5, 9, 7, 6, 1, 4, 2, 3],\n",
    "        [4, 2, 6, 8, 5, 3, 7, 9, 1],\n",
    "        [7, 1, 3, 9, 2, 4, 8, 5, 6],\n",
    "        [9, 6, 1, 5, 3, 7, 2, 8, 4],\n",
    "        [2, 8, 7, 4, 1, 9, 6, 3, 5],\n",
    "        [3, 4, 5, 2, 8, 6, 1, 7, 9]\n",
    "    ]\n",
    "    ```"
   ]
  },
  {
   "cell_type": "code",
   "execution_count": null,
   "metadata": {},
   "outputs": [],
   "source": []
  },
  {
   "cell_type": "markdown",
   "metadata": {
    "id": "53N3iK03l1e2"
   },
   "source": [
    "12. **N-Queens Problem**  \n",
    "    Write a function `solve_n_queens(n)` to find all possible solutions for the n-queens problem. The function should return all distinct solutions as a list of lists, where each list represents the position of queens on the board. The board should be represented as a list of strings, where 'Q' and '.' indicate a queen and an empty space, respectively.  \n",
    "    [N-Queens - Wikipedia](https://en.wikipedia.org/wiki/Eight_queens_puzzle)  \n",
    "    Example Input:  \n",
    "    `n = 4`  \n",
    "    Example Output:\n",
    "    ```python\n",
    "    [\n",
    "        [\".Q..\",\n",
    "         \"...Q\",\n",
    "         \"Q...\",\n",
    "         \"..Q.\"],\n",
    "    \n",
    "        [\"..Q.\",\n",
    "         \"Q...\",\n",
    "         \"...Q\",\n",
    "         \".Q..\"]\n",
    "    ]\n",
    "    ```"
   ]
  },
  {
   "cell_type": "code",
   "execution_count": null,
   "metadata": {},
   "outputs": [],
   "source": []
  },
  {
   "cell_type": "markdown",
   "metadata": {
    "id": "53N3iK03l1e2"
   },
   "source": [
    "13. **Knapsack Problem (Dynamic Programming)**  \n",
    "    Implement a function `knapsack(weights, values, capacity)` that solves the 0/1 Knapsack problem using dynamic programming. Given a list of weights and corresponding values of `n` items, determine the maximum value that can be obtained by selecting items with a total weight not exceeding a given capacity.  \n",
    "    [Knapsack Problem - Wikipedia](https://en.wikipedia.org/wiki/Knapsack_problem)  \n",
    "    Example Input:\n",
    "    ```python\n",
    "    weights = [2, 3, 4, 5]\n",
    "    values = [3, 4, 5, 6]\n",
    "    capacity = 5\n",
    "    ```\n",
    "    Example Output:  \n",
    "    `7` (items with weights 2 and 3 are selected, values are 3 and 4)"
   ]
  },
  {
   "cell_type": "code",
   "execution_count": null,
   "metadata": {},
   "outputs": [],
   "source": []
  },
  {
   "cell_type": "markdown",
   "metadata": {
    "id": "53N3iK03l1e2"
   },
   "source": [
    "14. **Travelling Salesman Problem (TSP)**  \n",
    "    Write a function `tsp(graph)` to solve the Travelling Salesman Problem (TSP) using dynamic programming with bit masking. Given a graph represented as an adjacency matrix, find the shortest possible route that visits each city exactly once and returns to the origin city.  \n",
    "    [Travelling Salesman Problem - Wikipedia](https://en.wikipedia.org/wiki/Travelling_salesman_problem)  \n",
    "    Example Input:\n",
    "    ```python\n",
    "    graph = [\n",
    "        [0, 10, 15, 20],\n",
    "        [10, 0, 35, 25],\n",
    "        [15, 35, 0, 30],\n",
    "        [20, 25, 30, 0]\n",
    "    ]\n",
    "    ```\n",
    "    Example Output:  \n",
    "    `80` (minimum cost path: 0 → 1 → 3 → 2 → 0)"
   ]
  },
  {
   "cell_type": "code",
   "execution_count": null,
   "metadata": {},
   "outputs": [],
   "source": []
  },
  {
   "cell_type": "markdown",
   "metadata": {
    "id": "53N3iK03l1e2"
   },
   "source": [
    "15. **Word Break Problem (Dynamic Programming)**  \n",
    "    Given a string `s` and a dictionary of words `dict`, write a function `word_break(s, dict)` to determine if `s` can be segmented into a space-separated sequence of one or more dictionary words. Return all such possible sentences.  \n",
    "    [Word Break Problem - Wikipedia](https://en.wikipedia.org/wiki/Word_break_problem)  \n",
    "    Example Input:\n",
    "    ```python\n",
    "    s = \"catsanddog\"\n",
    "    dict = [\"cat\", \"cats\", \"and\", \"sand\", \"dog\"]\n",
    "    ```\n",
    "    Example Output:\n",
    "    ```python\n",
    "    [\"cats and dog\", \"cat sand dog\"]\n",
    "    ```\n",
    "    Example Input:\n",
    "    ```python\n",
    "    s = \"pineapplepenapple\"\n",
    "    dict = [\"apple\", \"pen\", \"applepen\", \"pine\", \"pineapple\"]\n",
    "    ```\n",
    "    Example Output:\n",
    "    ```python\n",
    "    [\"pine apple pen apple\", \"pineapple pen apple\", \"pine applepen apple\"]\n",
    "    ```"
   ]
  },
  {
   "cell_type": "code",
   "execution_count": null,
   "metadata": {},
   "outputs": [],
   "source": []
  },
  {
   "cell_type": "code",
   "execution_count": null,
   "metadata": {},
   "outputs": [],
   "source": []
  },
  {
   "cell_type": "code",
   "execution_count": null,
   "metadata": {},
   "outputs": [],
   "source": []
  }
 ],
 "metadata": {
  "colab": {
   "provenance": []
  },
  "kernelspec": {
   "display_name": "Python 3 (ipykernel)",
   "language": "python",
   "name": "python3"
  },
  "language_info": {
   "codemirror_mode": {
    "name": "ipython",
    "version": 3
   },
   "file_extension": ".py",
   "mimetype": "text/x-python",
   "name": "python",
   "nbconvert_exporter": "python",
   "pygments_lexer": "ipython3",
   "version": "3.11.2"
  }
 },
 "nbformat": 4,
 "nbformat_minor": 1
}
